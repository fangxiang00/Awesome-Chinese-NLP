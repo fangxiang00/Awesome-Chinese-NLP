{
  "nbformat": 4,
  "nbformat_minor": 0,
  "metadata": {
    "colab": {
      "name": "pytorch1_whatspytorch.ipynb",
      "provenance": [],
      "authorship_tag": "ABX9TyP21+VGYZZVMsSHZA8qi2eW",
      "include_colab_link": true
    },
    "kernelspec": {
      "name": "python3",
      "display_name": "Python 3"
    },
    "language_info": {
      "name": "python"
    }
  },
  "cells": [
    {
      "cell_type": "markdown",
      "metadata": {
        "id": "view-in-github",
        "colab_type": "text"
      },
      "source": [
        "<a href=\"https://colab.research.google.com/github/fangxiang00/Awesome-Chinese-NLP/blob/master/pytorch1_whatspytorch.ipynb\" target=\"_parent\"><img src=\"https://colab.research.google.com/assets/colab-badge.svg\" alt=\"Open In Colab\"/></a>"
      ]
    },
    {
      "cell_type": "code",
      "metadata": {
        "id": "JFrOjSsCEhVp"
      },
      "source": [
        "import torch\n"
      ],
      "execution_count": 1,
      "outputs": []
    },
    {
      "cell_type": "markdown",
      "metadata": {
        "id": "Yq4RlITQEz2o"
      },
      "source": [
        "pytorch是一个基于python的科学计算包，主要针对两类人群：\n",
        "作为NumPy的替代品，可以利用GPU的性能进行计算\n",
        "作为一个高灵活性、速度快的深度学习平台\n"
      ]
    },
    {
      "cell_type": "markdown",
      "metadata": {
        "id": "JzMAL3kEE-ES"
      },
      "source": [
        "张量\n",
        "与numpy的区别：可以在GPU上加速计算\n"
      ]
    },
    {
      "cell_type": "code",
      "metadata": {
        "colab": {
          "base_uri": "https://localhost:8080/"
        },
        "id": "vZTA8PubErny",
        "outputId": "a3a1c1bc-450c-4f71-995c-899422a618b8"
      },
      "source": [
        "x = torch.empty(5,3)\n",
        "x"
      ],
      "execution_count": 2,
      "outputs": [
        {
          "output_type": "execute_result",
          "data": {
            "text/plain": [
              "tensor([[6.4543e-03, 3.0866e-41, 3.3631e-44],\n",
              "        [0.0000e+00,        nan, 6.4460e-44],\n",
              "        [1.1578e+27, 1.1362e+30, 7.1547e+22],\n",
              "        [4.5828e+30, 1.2121e+04, 7.1846e+22],\n",
              "        [9.2198e-39, 7.0374e+22, 0.0000e+00]])"
            ]
          },
          "metadata": {
            "tags": []
          },
          "execution_count": 2
        }
      ]
    },
    {
      "cell_type": "code",
      "metadata": {
        "colab": {
          "base_uri": "https://localhost:8080/"
        },
        "id": "dB6f-OhcFQPI",
        "outputId": "a9403ec5-c109-448f-dc57-ee4441e3491b"
      },
      "source": [
        "\"\"\"创建一个随机初始化矩阵\"\"\"\n",
        "x=torch.rand(5,3)\n",
        "x"
      ],
      "execution_count": 3,
      "outputs": [
        {
          "output_type": "execute_result",
          "data": {
            "text/plain": [
              "tensor([[0.5904, 0.7472, 0.7885],\n",
              "        [0.2467, 0.0418, 0.6561],\n",
              "        [0.9885, 0.3263, 0.7670],\n",
              "        [0.5450, 0.9361, 0.8585],\n",
              "        [0.5311, 0.8953, 0.8397]])"
            ]
          },
          "metadata": {
            "tags": []
          },
          "execution_count": 3
        }
      ]
    },
    {
      "cell_type": "code",
      "metadata": {
        "colab": {
          "base_uri": "https://localhost:8080/"
        },
        "id": "U0oKyJx2FW3g",
        "outputId": "7a103de2-5d6c-4fa6-92d9-f38bc54e2480"
      },
      "source": [
        "#创建一个填满0，且数据类型为long的矩阵\n",
        "x=torch.zeros(5,3,dtype=torch.long)\n",
        "x"
      ],
      "execution_count": 4,
      "outputs": [
        {
          "output_type": "execute_result",
          "data": {
            "text/plain": [
              "tensor([[0, 0, 0],\n",
              "        [0, 0, 0],\n",
              "        [0, 0, 0],\n",
              "        [0, 0, 0],\n",
              "        [0, 0, 0]])"
            ]
          },
          "metadata": {
            "tags": []
          },
          "execution_count": 4
        }
      ]
    },
    {
      "cell_type": "code",
      "metadata": {
        "colab": {
          "base_uri": "https://localhost:8080/"
        },
        "id": "gSXIixhWFsFA",
        "outputId": "cf6fb1b9-9a2f-451f-dd13-5304b54a89c8"
      },
      "source": [
        "#直接利用数据构造张量\n",
        "x=torch.tensor([5.5,3,4,5])\n",
        "x"
      ],
      "execution_count": 5,
      "outputs": [
        {
          "output_type": "execute_result",
          "data": {
            "text/plain": [
              "tensor([5.5000, 3.0000, 4.0000, 5.0000])"
            ]
          },
          "metadata": {
            "tags": []
          },
          "execution_count": 5
        }
      ]
    },
    {
      "cell_type": "code",
      "metadata": {
        "colab": {
          "base_uri": "https://localhost:8080/"
        },
        "id": "ux20oYUDF_mD",
        "outputId": "ba3608b3-fd87-4f59-a31e-94d8777d7e34"
      },
      "source": [
        "#复制tensor\n",
        "x=x.new_ones(5,3,dtype=torch.double)\n",
        "x=torch.randn_like(x,dtype=torch.float)\n",
        "x"
      ],
      "execution_count": 6,
      "outputs": [
        {
          "output_type": "execute_result",
          "data": {
            "text/plain": [
              "tensor([[-0.5914,  0.0928, -0.8363],\n",
              "        [-2.1019,  0.8357,  2.1983],\n",
              "        [ 0.6048, -0.7242,  1.4444],\n",
              "        [ 0.6958, -0.2723, -0.7216],\n",
              "        [-0.4729,  0.0562,  0.3149]])"
            ]
          },
          "metadata": {
            "tags": []
          },
          "execution_count": 6
        }
      ]
    },
    {
      "cell_type": "code",
      "metadata": {
        "colab": {
          "base_uri": "https://localhost:8080/"
        },
        "id": "zHx-Tu9EGanm",
        "outputId": "db21023d-c9cb-4ec5-ddd5-a378e23d0281"
      },
      "source": [
        "x.size()"
      ],
      "execution_count": 7,
      "outputs": [
        {
          "output_type": "execute_result",
          "data": {
            "text/plain": [
              "torch.Size([5, 3])"
            ]
          },
          "metadata": {
            "tags": []
          },
          "execution_count": 7
        }
      ]
    },
    {
      "cell_type": "code",
      "metadata": {
        "id": "f1Y1BvTxGdPN"
      },
      "source": [
        "#运算\n",
        "y=torch.rand(5,3)\n",
        "torch.add(x+y)\n",
        "#原地操作，任何一个in-place改变张量的操作后面都固定一个_。例如x.copy_(y)\\x.t_()将更改x\n",
        "y.add_(x)#改变y的值"
      ],
      "execution_count": null,
      "outputs": []
    },
    {
      "cell_type": "code",
      "metadata": {
        "colab": {
          "base_uri": "https://localhost:8080/"
        },
        "id": "VMZGoY_dHB9s",
        "outputId": "8f3f6fd2-3692-4993-f880-ae0c92744dad"
      },
      "source": [
        "#索引操作\n",
        "z=x[:,1]\n",
        "z\n",
        "#改变形状：torch.view()\n",
        "x=torch.randn(4,4)\n",
        "z=x.view(16)\n",
        "k=x.view(-1,8)\n",
        "z,k"
      ],
      "execution_count": 9,
      "outputs": [
        {
          "output_type": "execute_result",
          "data": {
            "text/plain": [
              "(tensor([ 4.1624e-01, -9.6432e-04, -1.3628e+00, -7.9685e-01, -1.7061e+00,\n",
              "         -6.8051e-01, -6.4959e-01, -4.2707e-01,  2.9561e-01, -1.8531e-01,\n",
              "          4.3705e-01,  1.1478e+00,  1.2558e+00,  4.3806e-03,  7.3876e-01,\n",
              "          3.8952e-01]),\n",
              " tensor([[ 4.1624e-01, -9.6432e-04, -1.3628e+00, -7.9685e-01, -1.7061e+00,\n",
              "          -6.8051e-01, -6.4959e-01, -4.2707e-01],\n",
              "         [ 2.9561e-01, -1.8531e-01,  4.3705e-01,  1.1478e+00,  1.2558e+00,\n",
              "           4.3806e-03,  7.3876e-01,  3.8952e-01]]))"
            ]
          },
          "metadata": {
            "tags": []
          },
          "execution_count": 9
        }
      ]
    },
    {
      "cell_type": "code",
      "metadata": {
        "colab": {
          "base_uri": "https://localhost:8080/"
        },
        "id": "WHDZJod6IT8D",
        "outputId": "c95a03a3-49ba-4c64-e177-24416e7f705c"
      },
      "source": [
        "#如果是只有一个元素的tensor，可以用.item()来得到对应的数值\n",
        "x=torch.randn(1)\n",
        "x, x.item()"
      ],
      "execution_count": 12,
      "outputs": [
        {
          "output_type": "execute_result",
          "data": {
            "text/plain": [
              "(tensor([-0.1059]), -0.10591565072536469)"
            ]
          },
          "metadata": {
            "tags": []
          },
          "execution_count": 12
        }
      ]
    },
    {
      "cell_type": "code",
      "metadata": {
        "colab": {
          "base_uri": "https://localhost:8080/"
        },
        "id": "gOXVY7DrKJAm",
        "outputId": "56d61e73-8625-4091-c076-158b6f0468ba"
      },
      "source": [
        "\"\"\"tensor与numpy的互相转换\"\"\"\n",
        "#torch转numpy\n",
        "a=torch.ones(5)\n",
        "b=a.numpy()\n",
        "a,b"
      ],
      "execution_count": 13,
      "outputs": [
        {
          "output_type": "execute_result",
          "data": {
            "text/plain": [
              "(tensor([1., 1., 1., 1., 1.]), array([1., 1., 1., 1., 1.], dtype=float32))"
            ]
          },
          "metadata": {
            "tags": []
          },
          "execution_count": 13
        }
      ]
    },
    {
      "cell_type": "code",
      "metadata": {
        "colab": {
          "base_uri": "https://localhost:8080/"
        },
        "id": "P2niPNVwKhKR",
        "outputId": "80626945-f57a-4a91-e3c4-a0a4bc2a0e3b"
      },
      "source": [
        "#torch张量和numpy数组将共享它们的底层内存位置，因此当改变一个时，另一个也会改变\n",
        "a.add_(1)\n",
        "a,b"
      ],
      "execution_count": 14,
      "outputs": [
        {
          "output_type": "execute_result",
          "data": {
            "text/plain": [
              "(tensor([2., 2., 2., 2., 2.]), array([2., 2., 2., 2., 2.], dtype=float32))"
            ]
          },
          "metadata": {
            "tags": []
          },
          "execution_count": 14
        }
      ]
    },
    {
      "cell_type": "code",
      "metadata": {
        "colab": {
          "base_uri": "https://localhost:8080/"
        },
        "id": "1maYkUxHKnzH",
        "outputId": "71d02585-527e-4875-ad33-3c7440066907"
      },
      "source": [
        "#numpy转torch\n",
        "import numpy as np\n",
        "a=np.ones(5)\n",
        "b=torch.from_numpy(a)\n",
        "np.add(a,1,out=a)\n",
        "a,b"
      ],
      "execution_count": 15,
      "outputs": [
        {
          "output_type": "execute_result",
          "data": {
            "text/plain": [
              "(array([2., 2., 2., 2., 2.]),\n",
              " tensor([2., 2., 2., 2., 2.], dtype=torch.float64))"
            ]
          },
          "metadata": {
            "tags": []
          },
          "execution_count": 15
        }
      ]
    },
    {
      "cell_type": "code",
      "metadata": {
        "colab": {
          "base_uri": "https://localhost:8080/"
        },
        "id": "-_Zxn2YpLInu",
        "outputId": "109721d6-b1ba-4480-c52b-90ef60b22ae2"
      },
      "source": [
        "device = torch.device(\"cuda\" if torch.cuda.is_available() else \"cpu\")\n",
        "x=torch.rand(5,device=\"cpu\")\n",
        "y=torch.ones_like(x,device=device)\n",
        "#x=x.to(device)\n",
        "z=x+y\n",
        "device,x,y,z"
      ],
      "execution_count": 2,
      "outputs": [
        {
          "output_type": "execute_result",
          "data": {
            "text/plain": [
              "(device(type='cpu'),\n",
              " tensor([0.1505, 0.7796, 0.6043, 0.8093, 0.2196]),\n",
              " tensor([1., 1., 1., 1., 1.]),\n",
              " tensor([1.1505, 1.7796, 1.6043, 1.8093, 1.2196]))"
            ]
          },
          "metadata": {
            "tags": []
          },
          "execution_count": 2
        }
      ]
    },
    {
      "cell_type": "code",
      "metadata": {
        "id": "a7lpTt4rLmcX"
      },
      "source": [
        ""
      ],
      "execution_count": 17,
      "outputs": []
    }
  ]
}